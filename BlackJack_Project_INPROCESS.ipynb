{
 "cells": [
  {
   "cell_type": "code",
   "execution_count": 146,
   "id": "890c7c29",
   "metadata": {},
   "outputs": [],
   "source": [
    "import random\n",
    "\n",
    "values = {'Two':2, 'Three':3, 'Four':4, 'Five':5, 'Six':6, 'Seven':7, 'Eight':8, \n",
    "            'Nine':9, 'Ten':10, 'Jack':11, 'Queen':12, 'King':13, 'Ace':14}\n",
    "\n",
    "suits = ('Hearts', 'Diamonds', 'Spades', 'Clubs')\n",
    "ranks = ('Two', 'Three', 'Four', 'Five', 'Six', 'Seven', 'Eight', 'Nine', 'Ten', 'Jack', 'Queen', 'King', 'Ace')\n"
   ]
  },
  {
   "cell_type": "code",
   "execution_count": 147,
   "id": "e8ec1431",
   "metadata": {},
   "outputs": [],
   "source": [
    "#Card class \n",
    "class Card:\n",
    "    \n",
    "    def __init__(self, suit, rank):\n",
    "        self.suit = suit\n",
    "        self.rank = rank\n",
    "        self.value = values[rank]\n",
    "    def __str__(self):\n",
    "        return self.rank + \" of \" + self.suit"
   ]
  },
  {
   "cell_type": "code",
   "execution_count": 148,
   "id": "53fa80ce",
   "metadata": {},
   "outputs": [],
   "source": [
    "class Deck:\n",
    "    def __init__(self):\n",
    "        self.allcards = []\n",
    "        \n",
    "        for suit in suits:\n",
    "            for rank in ranks:\n",
    "                created_card = Card(suit,rank)\n",
    "                self.allcards.append(created_card)\n",
    "    def shuffle(self):\n",
    "        random.shuffle(self.allcards)\n",
    "        \n",
    "    def deal_one(self):\n",
    "        return self.allcards.pop()"
   ]
  },
  {
   "cell_type": "code",
   "execution_count": 181,
   "id": "5d121405",
   "metadata": {},
   "outputs": [],
   "source": [
    "class Player():\n",
    "    def __init__(self,name):\n",
    "        self.name = name\n",
    "        self.allcards = []\n",
    "        \n",
    "    def removeone(self):\n",
    "        return self.allcards.pop(0)\n",
    "    def add_cards(self, newcards):\n",
    "        if type(self.allcards) == type(newcards):\n",
    "            self.allcards.extend(newcards)\n",
    "        else:\n",
    "            self.allcards.append(newcards)\n",
    "    def __str__(self):\n",
    "        return f\"Player {self.name} has {len(self.allcards)} cards\"\n",
    "        "
   ]
  },
  {
   "cell_type": "code",
   "execution_count": 182,
   "id": "c477c43a",
   "metadata": {},
   "outputs": [],
   "source": [
    "playerone = Player(\"One\")\n",
    "playertwo = Player(\"Two\")"
   ]
  },
  {
   "cell_type": "code",
   "execution_count": 183,
   "id": "26dd63ec",
   "metadata": {},
   "outputs": [],
   "source": [
    "newdeck = Deck()\n",
    "newdeck.shuffle\n",
    "\n",
    "for x in range(26):\n",
    "    playerone.add_cards(newdeck.deal_one())\n",
    "    playertwo.add_cards(newdeck.deal_one())"
   ]
  },
  {
   "cell_type": "code",
   "execution_count": 187,
   "id": "4ca45cc9",
   "metadata": {},
   "outputs": [
    {
     "name": "stdout",
     "output_type": "stream",
     "text": [
      "Round 1\n",
      "Player two has lost! Player one won\n"
     ]
    },
    {
     "ename": "IndexError",
     "evalue": "pop from empty list",
     "output_type": "error",
     "traceback": [
      "\u001b[1;31m---------------------------------------------------------------------------\u001b[0m",
      "\u001b[1;31mIndexError\u001b[0m                                Traceback (most recent call last)",
      "\u001b[1;32mC:\\Users\\SAPALC~1\\AppData\\Local\\Temp/ipykernel_8328/2946896596.py\u001b[0m in \u001b[0;36m<module>\u001b[1;34m\u001b[0m\n\u001b[0;32m     17\u001b[0m \u001b[1;33m\u001b[0m\u001b[0m\n\u001b[0;32m     18\u001b[0m     \u001b[0mplayertwo_cards\u001b[0m \u001b[1;33m=\u001b[0m \u001b[1;33m[\u001b[0m\u001b[1;33m]\u001b[0m\u001b[1;33m\u001b[0m\u001b[1;33m\u001b[0m\u001b[0m\n\u001b[1;32m---> 19\u001b[1;33m     \u001b[0mplayertwo_cards\u001b[0m\u001b[1;33m.\u001b[0m\u001b[0mappend\u001b[0m\u001b[1;33m(\u001b[0m\u001b[0mplayertwo\u001b[0m\u001b[1;33m.\u001b[0m\u001b[0mremoveone\u001b[0m\u001b[1;33m(\u001b[0m\u001b[1;33m)\u001b[0m\u001b[1;33m)\u001b[0m\u001b[1;33m\u001b[0m\u001b[1;33m\u001b[0m\u001b[0m\n\u001b[0m\u001b[0;32m     20\u001b[0m \u001b[1;33m\u001b[0m\u001b[0m\n\u001b[0;32m     21\u001b[0m     \u001b[0mwar\u001b[0m \u001b[1;33m=\u001b[0m \u001b[1;32mTrue\u001b[0m\u001b[1;33m\u001b[0m\u001b[1;33m\u001b[0m\u001b[0m\n",
      "\u001b[1;32mC:\\Users\\SAPALC~1\\AppData\\Local\\Temp/ipykernel_8328/1706476278.py\u001b[0m in \u001b[0;36mremoveone\u001b[1;34m(self)\u001b[0m\n\u001b[0;32m      5\u001b[0m \u001b[1;33m\u001b[0m\u001b[0m\n\u001b[0;32m      6\u001b[0m     \u001b[1;32mdef\u001b[0m \u001b[0mremoveone\u001b[0m\u001b[1;33m(\u001b[0m\u001b[0mself\u001b[0m\u001b[1;33m)\u001b[0m\u001b[1;33m:\u001b[0m\u001b[1;33m\u001b[0m\u001b[1;33m\u001b[0m\u001b[0m\n\u001b[1;32m----> 7\u001b[1;33m         \u001b[1;32mreturn\u001b[0m \u001b[0mself\u001b[0m\u001b[1;33m.\u001b[0m\u001b[0mallcards\u001b[0m\u001b[1;33m.\u001b[0m\u001b[0mpop\u001b[0m\u001b[1;33m(\u001b[0m\u001b[1;36m0\u001b[0m\u001b[1;33m)\u001b[0m\u001b[1;33m\u001b[0m\u001b[1;33m\u001b[0m\u001b[0m\n\u001b[0m\u001b[0;32m      8\u001b[0m     \u001b[1;32mdef\u001b[0m \u001b[0madd_cards\u001b[0m\u001b[1;33m(\u001b[0m\u001b[0mself\u001b[0m\u001b[1;33m,\u001b[0m \u001b[0mnewcards\u001b[0m\u001b[1;33m)\u001b[0m\u001b[1;33m:\u001b[0m\u001b[1;33m\u001b[0m\u001b[1;33m\u001b[0m\u001b[0m\n\u001b[0;32m      9\u001b[0m         \u001b[1;32mif\u001b[0m \u001b[0mtype\u001b[0m\u001b[1;33m(\u001b[0m\u001b[0mself\u001b[0m\u001b[1;33m.\u001b[0m\u001b[0mallcards\u001b[0m\u001b[1;33m)\u001b[0m \u001b[1;33m==\u001b[0m \u001b[0mtype\u001b[0m\u001b[1;33m(\u001b[0m\u001b[0mnewcards\u001b[0m\u001b[1;33m)\u001b[0m\u001b[1;33m:\u001b[0m\u001b[1;33m\u001b[0m\u001b[1;33m\u001b[0m\u001b[0m\n",
      "\u001b[1;31mIndexError\u001b[0m: pop from empty list"
     ]
    }
   ],
   "source": [
    "gameon = True\n",
    "roundnum = 0 \n",
    "while gameon:\n",
    "    roundnum += 1\n",
    "    print(f\"Round {roundnum}\")\n",
    "    \n",
    "    if len(playerone.allcards) == 0:\n",
    "        print(\"Player one has lost! Player two won\")\n",
    "        gameon = False\n",
    "    if len(playertwo.allcards) == 0:\n",
    "        print(\"Player two has lost! Player one won\")\n",
    "        gameon = False\n",
    "    \n",
    "    playerone_cards = []\n",
    "    playerone_cards.append(playerone.removeone())\n",
    "    \n",
    "    \n",
    "    playertwo_cards = []\n",
    "    playertwo_cards.append(playertwo.removeone())\n",
    "    \n",
    "    war = True\n",
    "    \n",
    "    while war:\n",
    "        if playerone_cards[-1].value > playertwo_cards[-1].value:\n",
    "            playerone.add_cards(playerone_cards)\n",
    "            playerone.add_cards(playertwo_cards)\n",
    "            war = False\n",
    "\n",
    "        elif playerone_cards[-1].value < playertwo_cards[-1].value:\n",
    "            playertwo.add_cards(playertwo_cards)\n",
    "            playertwo.add_cards(playerone_cards)\n",
    "            war = False\n",
    "            \n",
    "        else:\n",
    "            print(\"WAR\")\n",
    "            if len(playerone.allcards)<5:\n",
    "                print(\"Player one unable to go to war. Player two wins\")\n",
    "                gameon = False\n",
    "                break\n",
    "            elif len(playertwo.allcards)<5:\n",
    "                print(\"Player two unable to go to war. Player one wins\")\n",
    "                gameon = False\n",
    "                break\n",
    "            else:\n",
    "                for num in range(5):\n",
    "                    playerone_cards.append(playerone.removeone())\n",
    "                    playertwo_cards.append(playertwo.removeone())\n",
    "                \n",
    "             \n",
    "        \n",
    "        \n",
    "    \n",
    "            \n",
    "        \n",
    "    \n",
    "       \n",
    "\n",
    "    "
   ]
  },
  {
   "cell_type": "code",
   "execution_count": null,
   "id": "45729d76",
   "metadata": {},
   "outputs": [],
   "source": []
  }
 ],
 "metadata": {
  "kernelspec": {
   "display_name": "Python 3 (ipykernel)",
   "language": "python",
   "name": "python3"
  },
  "language_info": {
   "codemirror_mode": {
    "name": "ipython",
    "version": 3
   },
   "file_extension": ".py",
   "mimetype": "text/x-python",
   "name": "python",
   "nbconvert_exporter": "python",
   "pygments_lexer": "ipython3",
   "version": "3.9.7"
  }
 },
 "nbformat": 4,
 "nbformat_minor": 5
}
