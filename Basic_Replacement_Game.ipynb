{
 "cells": [
  {
   "cell_type": "code",
   "execution_count": 1,
   "id": "18cc3bf1",
   "metadata": {},
   "outputs": [],
   "source": [
    "#Simple Replacement Game"
   ]
  },
  {
   "cell_type": "code",
   "execution_count": 7,
   "id": "6801adfe",
   "metadata": {},
   "outputs": [
    {
     "name": "stdout",
     "output_type": "stream",
     "text": [
      "Do you wanna play again, enter Y or NY\n",
      "Write the replacement here1\n",
      "Choose an index 1,2,or 32\n",
      "Do you wanna play again, enter Y or NN\n"
     ]
    },
    {
     "data": {
      "text/plain": [
       "[1, 2, '1']"
      ]
     },
     "execution_count": 7,
     "metadata": {},
     "output_type": "execute_result"
    }
   ],
   "source": [
    "#Initial list\n",
    "gamelist = [1,2,3]\n",
    "#Get the user to choose an index \n",
    "def userchoice(): \n",
    "    \n",
    "    userindexinput = \"wrong\"\n",
    "    \n",
    "    while userindexinput not in [\"1\", \"2\", \"3\"]:\n",
    "        userindexinput = input(\"Choose an index 1,2,or 3\")\n",
    "    \n",
    "        if userindexinput not in [\"1\", \"2\", \"3\" ]:\n",
    "            print(\"I dont understand, choose 1,2,3\")\n",
    "        \n",
    "    \n",
    "    return int(userindexinput)\n",
    "#Ask if the user wants to play again\n",
    "def playagain():\n",
    "    askplayagain = \"wrong\"\n",
    "    while askplayagain not in [\"Y\", \"N\"]:\n",
    "        askplayagain = input(\"Do you wanna play again, enter Y or N\")\n",
    "        if askplayagain not in [\"Y\", \"N\"]:\n",
    "            \"I dont understand, put Y or N\"\n",
    "    \n",
    "    return askplayagain\n",
    "\n",
    "#Perform the replacement\n",
    "def replacement():\n",
    "    userreplacement = input(\"Write the replacement here\")\n",
    "    gamelist[userchoice()] = userreplacement\n",
    "    return gamelist\n",
    "    \n",
    "    \n",
    "#The function to run the game \n",
    "def game_itself():\n",
    "    while playagain() == \"Y\":\n",
    "        replacement()\n",
    "        playagain()\n",
    "        return gamelist\n",
    "    \n",
    "    \n",
    "    \n",
    "\n",
    "game_itself()\n",
    "\n",
    "    "
   ]
  },
  {
   "cell_type": "code",
   "execution_count": null,
   "id": "e7f83799",
   "metadata": {},
   "outputs": [],
   "source": []
  }
 ],
 "metadata": {
  "kernelspec": {
   "display_name": "Python 3 (ipykernel)",
   "language": "python",
   "name": "python3"
  },
  "language_info": {
   "codemirror_mode": {
    "name": "ipython",
    "version": 3
   },
   "file_extension": ".py",
   "mimetype": "text/x-python",
   "name": "python",
   "nbconvert_exporter": "python",
   "pygments_lexer": "ipython3",
   "version": "3.9.7"
  }
 },
 "nbformat": 4,
 "nbformat_minor": 5
}
